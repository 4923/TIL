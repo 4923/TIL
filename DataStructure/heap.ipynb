{
 "metadata": {
  "language_info": {
   "codemirror_mode": {
    "name": "ipython",
    "version": 3
   },
   "file_extension": ".py",
   "mimetype": "text/x-python",
   "name": "python",
   "nbconvert_exporter": "python",
   "pygments_lexer": "ipython3",
   "version": "3.7.10"
  },
  "orig_nbformat": 2,
  "kernelspec": {
   "name": "python3",
   "display_name": "Python 3.7.10 64-bit ('tf2_py37': conda)",
   "metadata": {
    "interpreter": {
     "hash": "cd1d6a1ed908219ec4468aac6de40605c26f50ff7dc5411b40d2b744d6443d95"
    }
   }
  }
 },
 "nbformat": 4,
 "nbformat_minor": 2,
 "cells": [
  {
   "source": [
    "# $Heap$"
   ],
   "cell_type": "markdown",
   "metadata": {}
  },
  {
   "source": [
    "## 순차적 자료구조\n",
    "지금까지 배웠던 배열과 연결리스트는 각 자료값이 연결되어있는 '순서가 있는' 자료구조였다. \n",
    "- stack, queue는 배열과 연결리스트로 구현할 수 있으므로 순차적 자료구조다.\n",
    "\n"
   ],
   "cell_type": "markdown",
   "metadata": {}
  },
  {
   "source": [
    "## 트리 $tree$\n",
    "\n",
    "- 상위 노드가 하위 노드를 포함하는 포함관계가 있는 자료구조다.\n",
    "- 크리스마스 트리 모양이라 자료구조의 이름이 트리다.\n",
    "- 연결리스트는 자식노드가 하나 이하인 트리구조다."
   ],
   "cell_type": "markdown",
   "metadata": {}
  },
  {
   "source": [
    "## 이진트리 $Binary tree$\n",
    "\n",
    "- 자식 노드를 두개 이하로 가지는 트리를 말한다.\n",
    "- 가장 많이 쓰이는 트리 구조다."
   ],
   "cell_type": "markdown",
   "metadata": {}
  },
  {
   "source": [
    "### 용어\n",
    "\n",
    "1. 노드 $node$\n",
    "    - key값을 저장하고 있는 독립된 공간\n",
    "    - 노드의 종류\n",
    "        1. 루트 노드 $root node$\n",
    "            - 최초의 노드, 모든 노드의 부모 노드\n",
    "        2. 부모 노드 $parent node$\n",
    "            - 일반적으로 해당 노드보다 *한 레벨 위에* 있는 노드를 말한다.\n",
    "        3. 자식 노드 $child node$\n",
    "            - 일반적으로 해당 노드보다 *한 레벨 아래에* 있는 노드를 말한다.\n",
    "        4. 형제 노드\n",
    "            - 같은 레벨의 노드, 현재 노드와 수평에 놓인 노드들.\n",
    "        5. 리프 노드 $leaf node$\n",
    "            - 자식이 없는 가장 말단의 노드\n",
    "2. 링크 $link$, 에지 $edge$\n",
    "    - 노드와 노드를 연결하는 연결고리\n",
    "3. 레벨 $level$\n",
    "    - 루트 노드가 있는 레벨을 0로 하고 링크를 건널 때 마다 레벨을 1씩 추가한다.\n",
    "    - 트리의 높이 $==$ 레벨의 수\n",
    "4. 경로 path\n",
    "    - 시작점 $v$에서 도착점 $w$로 이동하기 위해 거쳐야하는 노드\n",
    "    - 경로의 길이 $path edge$ 는 경로에 포함된 에지 개수다.\n",
    "5. 부트리 $sub tree$\n",
    "    - 하위 링크에 달려있는 모든 노드\n"
   ],
   "cell_type": "markdown",
   "metadata": {}
  },
  {
   "source": [
    "### 코드화"
   ],
   "cell_type": "markdown",
   "metadata": {}
  },
  {
   "cell_type": "code",
   "execution_count": 13,
   "metadata": {},
   "outputs": [],
   "source": [
    "#            a              # level 0\n",
    "#          /   \\\n",
    "#        b       c          # level 1\n",
    "#       /       /  \\\n",
    "#     d       e     f       # level 2\n",
    "#    / \\     /              \n",
    "#   g   h   i               # level 3"
   ]
  },
  {
   "source": [
    "**\\[표현방법 1] 리스트로 표현**\n",
    "\n",
    "1. \n",
    "level 0 부터 마지막 level까지 각각의 노드를 리스트에 저장한다.\n",
    "\n",
    "2. \n",
    "각 레벨이 모두 꽉 차있다고 생각하고 없는 노드는 None으로 저장한다.  \n",
    "(ex b노드의 자식노드가 하나만 있는 경우)\n",
    "\n",
    "level 0 : a  \n",
    "level 1 : b c  \n",
    "level 2 : d None e f  \n",
    "level 3 : g h None None i None None None  \n",
    "\n",
    "`A = [a, b, c, d, None, e, f, g, h, None, None, i, None, None, None]`\n"
   ],
   "cell_type": "markdown",
   "metadata": {}
  },
  {
   "source": [
    "**\\[표현방법 1] 노드 탐색**\n",
    "\n",
    "이진트리이므로 각 레벨이 차지하는 공간이 정해져 있다.\n",
    "- 노드의 최대 개수 : $level *2$\n",
    "    \n",
    "따라서 간단한 계산을 통해 자식노드 인덱스를 찾을 수 있다.  \n",
    "+ 자식노드 탐색\n",
    "    - $H[k]$의 왼쪽자식 노드 : $H[2*k+1]$  \n",
    "    - $H[k]$의 오른쪽자식 노드 : $H[2*k+2]$\n",
    "+ 부모노드 탐색\n",
    "    - $H[k]$의 부모 노드 : $H[(k-1)//2]$\n",
    "\n",
    "### 장점\n",
    "상수시간에 왼쪽, 오른쪽 자식노드와 부모노드를 **상수시간**에 찾을 수 있다.\n",
    "\n",
    "### 단점\n",
    "빈 공간을 None으로 저장하기 때문에 **메모리를 낭비**하게 된다.\n",
    "- 메모리 낭비를 최소화 하려면? : 자식노드를 모두 꽉 채운다"
   ],
   "cell_type": "markdown",
   "metadata": {}
  },
  {
   "cell_type": "code",
   "execution_count": 17,
   "metadata": {},
   "outputs": [],
   "source": [
    "#           a           # level 0\n",
    "#         /   \\\n",
    "#        b     c        # level 1\n",
    "#         \\   / \\\n",
    "#         d  e   f      # level 2"
   ]
  },
  {
   "source": [
    "H = \\[a, b, c, $\\emptyset$, d, e, f]\n",
    "\n",
    "루트노드 H\\[0]\n",
    "- 왼쪽 자식 노드 : H\\[1]\n",
    "    + H\\[1]의 왼쪽자식 노드 : H\\[1*2+1]\n",
    "    + H\\[1]의 오른쪽자식 노드 : H\\[1*2+2]\n",
    "\n",
    "- 오른쪽 자식 노드 : H\\[2]\n",
    "    + H\\[2]의 왼쪽자식 노드 : H\\[2*2+1]\n",
    "    + H\\[2]의 오른쪽자식 노드 : H\\[2*2+2]\n"
   ],
   "cell_type": "markdown",
   "metadata": {}
  },
  {
   "source": [
    "**\\[표현방법 2] 리스트로 표현 (재귀적)**\n",
    "\n",
    "1. \n",
    "\n",
    "루트 노드를 저장한다.  \n",
    "`[a]`\n",
    "\n",
    "2.  \n",
    "\n",
    "부트리를 각각 리스트로 저장한다.  \n",
    "`[a, [a의 왼쪽 부트리], [a의 오른쪽 부트리]]`\n",
    "\n",
    "3. \n",
    "\n",
    "부트리의 첫 노드를 기준으로 부트리를 저장한다.  \n",
    "```python\n",
    "[a, \n",
    "[b, [d, [g], [h]], [None, [None], [None]]]\n",
    "[c, [e, [i], [None]], [f, [None], [None]]] \n",
    "]\n",
    "```"
   ],
   "cell_type": "markdown",
   "metadata": {}
  },
  {
   "source": [
    "**\\[표현방법 3] 직접 노드를 class로 정의**\n",
    "\n",
    "left와 right로 링크를 구분하는 노드 클래스를 정의한다."
   ],
   "cell_type": "markdown",
   "metadata": {}
  },
  {
   "source": [
    "## 힙 $heap$  \n",
    "\n",
    "힙 성질 $heap\\ property$과 모양성질을 만족하는 이진트리\n",
    "\n",
    "-  힙 성질  \n",
    "    + 모든 부모 노드의 key값은 자식 노드의 key값보다 작지 않다.\n",
    "    + $\\therefore$ 루트 노드에는 가장 큰 값이 위치해야 한다.\n",
    "\n",
    "- 모양 성질  \n",
    "    이진트리의 모양을 유지해야 한다.\n"
   ],
   "cell_type": "markdown",
   "metadata": {}
  },
  {
   "source": [
    "### 제공 연산\n",
    "\n",
    "1. `insert`  \n",
    "    - 힙성질을 만족하기 위해서는 루트노드에 가장 큰 값이 위치해야 하므로 원하는 위치에 값을 끼워넣을 수 있어야 한다.\n",
    "    - Time Complexity : $O(\\log{N})$\n",
    "2. `find-max` : `return A[0]`\n",
    "    - 루트노드에 가장 큰 값이 위치하므로 루트노드를 반환한다.  \n",
    "    - 가장 큰 값을 알고 싶다면 힙을 만드는것이 유리하다.\n",
    "    - Time Complexity : $O(1)$\n",
    "3. `delete-max`\n",
    "    - 지운 후에도 heap을 유지해야 한다.\n",
    "    - Time Complexity : $O(\\log{N})$"
   ],
   "cell_type": "markdown",
   "metadata": {}
  },
  {
   "source": [
    "### `make-heap` : heapify-down\n",
    "밑에서부터 heap 성질을 만족하는지 확인하고, 밑으로 값을 정렬하기 때문에 heapify down이다.  \n",
    "\n",
    "1. `leaf node` 바로 위 노드에서 해당 노드가 자식 노드보다 큰지 확인한다 (heap 성질 확인)\n",
    "    - heap은 상수시간 안에 자식노드를 찾아낼 수 있다.\n",
    "2. 자식노드가 더 크다면 두 자식노드중 더 큰 수와 부모노드의 값을 바꾼다\n",
    "    - 그렇게 형성된 노드들을 작은 heap이라고 한다.\n",
    "    - 이 때 자식노드와 자식노드의 자식노드가 heap 성질을 만족하지 않는다면 다시 값을 바꾼다. (leaf 노드에 도달할 때 까지 반복)\n",
    "3. 모든 값이 heap 성질을 만족하면 종료\n",
    "\n",
    "\n",
    "```python\n",
    "# pseudo-code\n",
    "make_heap(A):\n",
    "    n = len(A)\n",
    "    for k in range(n-1, -1, -1):\n",
    "        # A[k] -> heap 성질 만족하는 곳으로 내려보내기\n",
    "        ehapify_down (k,n)  # heap sort를 위해 n도 이동\n",
    "\n",
    "heapify_down(k, n): # k : A[k], n : heap원소 개수\n",
    "    while A[k] != leaf node:\n",
    "        L, R = 2*k + 1, 2 *k + 2\n",
    "        m = max index(A[k], A[L], A{R})\n",
    "        if k != m:\n",
    "            A[k] <-> A[m]\n",
    "            k = m\n",
    "        else:  # 자식노드가 자기보다 더 작다\n",
    "            break  # leaf까지 내려갈 필요 X\n",
    "```\n",
    "\n",
    "**수행시간**\n",
    "- make heap은 k번 돌며 heapify_down을 n번 부르므로 `O(n * time(heapify_down))`\n",
    "- heapify_down의 최악의 경우는 root 값이 바닥에 leaf에 있을 때이므로 상수연산을 height번 하는것이므로 `O(1 * h) == O(N)`\n",
    "- $\\therefore$ make heap의 수행시간 `O(n * n)`"
   ],
   "cell_type": "markdown",
   "metadata": {}
  },
  {
   "source": [],
   "cell_type": "markdown",
   "metadata": {}
  },
  {
   "source": [
    "### `make-heap` : heapify-up\n",
    "leaf 노드부터 root 노드까지 위로 값을 정렬하기 때문에 heapify-up이다.\n",
    "\n",
    "```py\n",
    "heapify_up(k):  # A[k]를 heapify\n",
    "    while k > 0 and A [(k-1)//] < A[k]: # 루트에 도달하기 전까지 부모노드가 내 값보다 작으면\n",
    "    A[k], A[(k-1)//2] = A[(k-1)//2], A[k]\n",
    "    k = (k-1)//2  # 부모노드로 이동\n",
    "```\n",
    "\n",
    "**수행시간**  \n",
    "`O(log{n})`"
   ],
   "cell_type": "markdown",
   "metadata": {}
  },
  {
   "source": [
    "### `find_max`\n",
    "최대값을 찾는다. 힙성질을 만족할 때 트리의 최대값은 루트이므로 `A[0]`을 반환한다.\n",
    "\n",
    "```python\n",
    "find_max():\n",
    "    return A[0]\n",
    "```\n",
    "\n",
    "**수행시간**\n",
    "\n",
    "`O(1)`"
   ],
   "cell_type": "markdown",
   "metadata": {}
  },
  {
   "source": [
    "### `delete_max`\n",
    "\n",
    "1. 가장 마지막 값이 루트노드로 옮겨온다. (삭제되어야 하는 위치이므로)\n",
    "2. heap 성질을 만족하도록 정렬한다.\n",
    "\n",
    "```python\n",
    "delete_max():\n",
    "    if len(A) == 0 : return None\n",
    "    key = A[0]\n",
    "    A[0], A[len(n)-1] = A[len(n)-1], A[0]\n",
    "    A.pop()  # 마지막 값 삭제\n",
    "    heapify_down(0, len(A))  # pop해서 하나 없앴으니 len(A)도 조정되었다\n",
    "    return key \n",
    "```\n",
    "\n",
    "**수행시간**\n",
    "\n",
    "전부 상수시간 내에 연산되나 heapify_down의 수행시간이 `O(logn)`이므로 `O(logn)`\n"
   ],
   "cell_type": "markdown",
   "metadata": {}
  },
  {
   "cell_type": "code",
   "execution_count": null,
   "metadata": {},
   "outputs": [],
   "source": []
  }
 ]
}