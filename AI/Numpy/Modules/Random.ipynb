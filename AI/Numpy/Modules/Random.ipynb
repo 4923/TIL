{
 "metadata": {
  "language_info": {
   "codemirror_mode": {
    "name": "ipython",
    "version": 3
   },
   "file_extension": ".py",
   "mimetype": "text/x-python",
   "name": "python",
   "nbconvert_exporter": "python",
   "pygments_lexer": "ipython3",
   "version": "3.7.10"
  },
  "orig_nbformat": 2,
  "kernelspec": {
   "name": "python3710jvsc74a57bd0b1c32768c3388c46e098f4634bfda4e74ee484e5ffc2ec37cd24883f67512a61",
   "display_name": "Python 3.7.10 64-bit ('tf2_py37': conda)"
  }
 },
 "nbformat": 4,
 "nbformat_minor": 2,
 "cells": [
  {
   "source": [
    "### Quick review of numpy module : random\n",
    "\n",
    "[ref](https://docs.scipy.org/doc/numpy-1.15.0/reference/routines.random.html)"
   ],
   "cell_type": "markdown",
   "metadata": {}
  },
  {
   "cell_type": "code",
   "execution_count": 1,
   "metadata": {},
   "outputs": [],
   "source": [
    "import numpy as np"
   ]
  },
  {
   "source": [
    "### 1. `np.random.rand(shape)`\n",
    "\n",
    "균일 분포에서 0 ~ 1 사이의 난수를 추출해 파라미터 모양의 array를 반환한다.\n",
    "\n",
    "* Parameter : create an array of the given shape\n",
    "* Retunrs : n dimensions array (random value)\n",
    "* Range : 0 ~ 1, 균일한 분포"
   ],
   "cell_type": "markdown",
   "metadata": {}
  },
  {
   "cell_type": "code",
   "execution_count": 5,
   "metadata": {},
   "outputs": [
    {
     "output_type": "execute_result",
     "data": {
      "text/plain": [
       "array([[0.98376019, 0.51313347],\n",
       "       [0.17487952, 0.14111812],\n",
       "       [0.57574274, 0.94235639]])"
      ]
     },
     "metadata": {},
     "execution_count": 5
    }
   ],
   "source": [
    "np.random.rand(3,2)"
   ]
  },
  {
   "cell_type": "code",
   "execution_count": 4,
   "metadata": {},
   "outputs": [
    {
     "output_type": "execute_result",
     "data": {
      "text/plain": [
       "0.16255496273187608"
      ]
     },
     "metadata": {},
     "execution_count": 4
    }
   ],
   "source": [
    "np.random.random_sample()"
   ]
  },
  {
   "source": [
    "### 2. `np.random.randn()`\n",
    "\n",
    "가우시안 균일정규분포 (Gqussian standard normal distribution) 에서 0 ~ 1 사이의 난수를 추출해 파라미터 모양의 array를 반환한다.  \n",
    "\n",
    "- Parameters : (optional) create a array of the given shape, should be all positive\n",
    "    - if no parameter is given, Float is returned\n",
    "- Returns : n dimentions array\n",
    "- Range : 0 ~ 1\n",
    "\n",
    "\n",
    "=> `np.random.standard_normal` : (Similar) takes tuple as the first argument\n",
    "\n",
    "- Parameters : (optional: default is None) size = (m, n, k)\n"
   ],
   "cell_type": "markdown",
   "metadata": {}
  },
  {
   "cell_type": "code",
   "execution_count": 6,
   "metadata": {},
   "outputs": [
    {
     "output_type": "execute_result",
     "data": {
      "text/plain": [
       "-0.8261774041686861"
      ]
     },
     "metadata": {},
     "execution_count": 6
    }
   ],
   "source": [
    "np.random.randn()"
   ]
  },
  {
   "cell_type": "code",
   "execution_count": 7,
   "metadata": {},
   "outputs": [
    {
     "output_type": "execute_result",
     "data": {
      "text/plain": [
       "array([[ 1.19658983, -0.50348263, -1.25472469,  0.49492173, -0.3854837 ],\n",
       "       [-0.13238452, -2.2324582 ,  0.30573541,  1.35772937, -0.64210552]])"
      ]
     },
     "metadata": {},
     "execution_count": 7
    }
   ],
   "source": [
    "np.random.randn(2, 5)"
   ]
  },
  {
   "cell_type": "code",
   "execution_count": 9,
   "metadata": {},
   "outputs": [
    {
     "output_type": "execute_result",
     "data": {
      "text/plain": [
       "array([[-0.82924676,  3.04819117,  3.42960009,  2.42082596],\n",
       "       [ 1.79016981,  3.81474596,  2.1174638 ,  1.83481301]])"
      ]
     },
     "metadata": {},
     "execution_count": 9
    }
   ],
   "source": [
    "# 왜 이렇게 되는지 모르겠지만\n",
    "# N(3, 6.25) 분포에서 난수를 추출하여 2 x 4 모양의 행렬을 만든다.\n",
    "\n",
    "2.5 * np.random.randn(2,4) + 3"
   ]
  },
  {
   "cell_type": "code",
   "execution_count": 14,
   "metadata": {},
   "outputs": [
    {
     "output_type": "stream",
     "name": "stdout",
     "text": [
      "[ 0.55719666 -0.14390836  0.64013184  0.56234085 -1.80549922  1.22531208\n -0.13294471 -0.49953921  0.21600127 -0.41485064]\n(10,)\n"
     ]
    }
   ],
   "source": [
    "t = np.random.standard_normal(10)  # 파라미터의 개수만큼 난수 출력 (1행 10열 행렬)\r\n",
    "print(t)\r\n",
    "print(t.shape)"
   ]
  },
  {
   "cell_type": "code",
   "execution_count": 13,
   "metadata": {},
   "outputs": [
    {
     "output_type": "stream",
     "name": "stdout",
     "text": [
      "[[[-0.55624044 -0.49651196]\n  [-1.93798424  0.26655166]\n  [-1.35764099  0.85172791]\n  [-0.28357598 -0.91537844]]\n\n [[-0.16020178 -0.87972331]\n  [-1.23728201 -1.42981558]\n  [-0.31563566  0.37734967]\n  [-0.21092091 -0.72128748]]\n\n [[-1.72757816  0.12342448]\n  [-0.53703913  0.51736023]\n  [ 0.42194747 -0.50500025]\n  [-0.14920294  0.85659114]]]\n(3, 4, 2)\n"
     ]
    }
   ],
   "source": [
    "s = np.random.standard_normal(size = (3, 4, 2))\n",
    "print(s)\n",
    "print(s.shape)"
   ]
  },
  {
   "source": [
    "### 3. `randint(low[, high, size, dtype])`\n",
    "\n",
    "이산 균등분포 (discrete uniform) 에서 범위를 지정해 값을 추출한다.  \n",
    "이 때, 범위는 [low, high) 의 반열린구간이며 최대값을 지정하지 않을 경우 유일 파라미터가 최대값이 된다.\n",
    "\n",
    "- Parameters\n",
    "    - low : int\n",
    "    - high : int\n",
    "    - size : int or tuple (m, n, k) \n",
    "    - dtype : int64, int, ... ...\n",
    "- Returns : int or ndarray of **ints**"
   ],
   "cell_type": "markdown",
   "metadata": {}
  },
  {
   "cell_type": "code",
   "execution_count": 15,
   "metadata": {},
   "outputs": [
    {
     "output_type": "execute_result",
     "data": {
      "text/plain": [
       "array([0, 0, 1, 0, 0, 1, 1, 1, 0, 1])"
      ]
     },
     "metadata": {},
     "execution_count": 15
    }
   ],
   "source": [
    "np.random.randint(2, size = 10)"
   ]
  },
  {
   "cell_type": "code",
   "execution_count": 16,
   "metadata": {},
   "outputs": [
    {
     "output_type": "execute_result",
     "data": {
      "text/plain": [
       "array([[[6, 8, 4, 2, 5, 9],\n",
       "        [6, 9, 6, 3, 3, 8],\n",
       "        [3, 8, 8, 2, 4, 7],\n",
       "        [6, 9, 3, 6, 2, 9]],\n",
       "\n",
       "       [[3, 4, 7, 5, 3, 3],\n",
       "        [9, 9, 4, 9, 6, 2],\n",
       "        [6, 5, 7, 3, 9, 3],\n",
       "        [2, 3, 6, 5, 7, 7]]])"
      ]
     },
     "metadata": {},
     "execution_count": 16
    }
   ],
   "source": [
    "np.random.randint(2, 10, size = (2, 4, 6))"
   ]
  },
  {
   "cell_type": "code",
   "execution_count": null,
   "metadata": {},
   "outputs": [],
   "source": []
  }
 ]
}