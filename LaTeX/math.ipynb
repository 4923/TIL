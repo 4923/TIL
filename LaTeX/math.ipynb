{
 "metadata": {
  "language_info": {
   "codemirror_mode": {
    "name": "ipython",
    "version": 3
   },
   "file_extension": ".py",
   "mimetype": "text/x-python",
   "name": "python",
   "nbconvert_exporter": "python",
   "pygments_lexer": "ipython3",
   "version": 3
  },
  "orig_nbformat": 2
 },
 "nbformat": 4,
 "nbformat_minor": 2,
 "cells": [
  {
   "source": [
    "### LaTeX\n",
    "\n",
    "논문을 작성할 때 주로 사용되는 언어로, 노션이나 주피터 노트북에서 수식을 작성할 때 사용한다."
   ],
   "cell_type": "markdown",
   "metadata": {}
  },
  {
   "source": [
    "### 주피터 노트북\n",
    "\n",
    "- 마크다운 셀에서 사용할 수 있다.\n",
    "- inline 수식 : `$ 수식 $`\n",
    "    * example) $ inline$\n",
    "- block 수식 : `$$ 수식 $$`\n",
    "$$ block \\tag{example}$$\n",
    "\n",
    "### 노션에서는\n",
    "\n",
    "`/math` 로 호출할 수 있다."
   ],
   "cell_type": "markdown",
   "metadata": {}
  },
  {
   "source": [
    "\n",
    "## 문법\n"
   ],
   "cell_type": "markdown",
   "metadata": {}
  },
  {
   "source": [
    "\n",
    "### 연산\n"
   ],
   "cell_type": "markdown",
   "metadata": {}
  },
  {
   "source": [
    "\n",
    "- 분수표현\n",
    "    $\\frac{a}{b}$ : `\\frac{a}{b}`"
   ],
   "cell_type": "markdown",
   "metadata": {}
  },
  {
   "source": [
    "### 수 표현"
   ],
   "cell_type": "markdown",
   "metadata": {}
  },
  {
   "source": [
    "- 위첨자\n",
    "\n",
    "    $x^{n}$ : `x^{n}`\n",
    "\n",
    "- 아래첨자\n",
    "\n",
    "    $x_{n}$ : `x_{n}`\n",
    "\n",
    "- log\n",
    "\n",
    "    $\\log_{b}{a}$ : `\\log_{b}{a}`\n",
    "    * $b$ is for base\n",
    "    * $a$ is for argument\n"
   ],
   "cell_type": "markdown",
   "metadata": {}
  },
  {
   "source": [
    "### 수열\n"
   ],
   "cell_type": "markdown",
   "metadata": {}
  },
  {
   "source": [
    "- 시그마\n",
    "\n",
    "     $\\sum$ :  `\\sum`\n",
    "\n",
    "    $\\sum_{n}^{k}n$ : `\\sum_{n}^{k}n`"
   ],
   "cell_type": "markdown",
   "metadata": {}
  },
  {
   "source": [
    "### 집합\n"
   ],
   "cell_type": "markdown",
   "metadata": {}
  },
  {
   "source": [
    "- 논리곱\n",
    "\n",
    "    $\\wedge$ : `\\wedge`\n",
    "\n",
    "- 논리합\n",
    "\n",
    "    $\\lor$ :  `\\lor`"
   ],
   "cell_type": "markdown",
   "metadata": {}
  },
  {
   "source": [
    "### 증명"
   ],
   "cell_type": "markdown",
   "metadata": {}
  },
  {
   "source": [
    "- 따라서\n",
    "\n",
    "    $\\therefore$ : `\\therefore`\n",
    "\n",
    "- 왜냐하면\n",
    "\n",
    "    $\\because$ : `\\because`"
   ],
   "cell_type": "markdown",
   "metadata": {}
  },
  {
   "source": [
    "### 통계\n"
   ],
   "cell_type": "markdown",
   "metadata": {}
  },
  {
   "source": [
    "- 추정\n",
    "\n",
    "    $\\hat{b}$ : `\\hat{b}` 추정을 의미한다."
   ],
   "cell_type": "markdown",
   "metadata": {}
  },
  {
   "source": [
    "### 기타\n"
   ],
   "cell_type": "markdown",
   "metadata": {}
  },
  {
   "source": [
    "- `\\tag{1}` 식 번호를 매길 때 사용한다. block equation에서만 사용 가능하며 식번호는 우측정렬되어 표기된다.\n",
    "$$example\\tag{1}$$\n"
   ],
   "cell_type": "markdown",
   "metadata": {}
  }
 ]
}