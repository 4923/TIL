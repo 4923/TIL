{
 "metadata": {
  "language_info": {
   "codemirror_mode": {
    "name": "ipython",
    "version": 3
   },
   "file_extension": ".py",
   "mimetype": "text/x-python",
   "name": "python",
   "nbconvert_exporter": "python",
   "pygments_lexer": "ipython3",
   "version": 3
  },
  "orig_nbformat": 2
 },
 "nbformat": 4,
 "nbformat_minor": 2,
 "cells": [
  {
   "source": [
    "# 택시 기하학이란"
   ],
   "cell_type": "markdown",
   "metadata": {}
  },
  {
   "source": [
    "일반적으로 중고등학교에서 배우는 기하학을 유클리드 기하학 *Euclidean geometry* 이라고 한다. <br>\n",
    "택시 기하학 *Taxi cab geometry* 은 비유클리드기하학 *Euclidean geometry*의 한 종류다.\n",
    "\n",
    "비유클리드기하학은 유클리드의 제 5공리인 평행선 공준(선 밖의 한 점을 지나면서 그 직선에 평행한 직선은 단 하나 존재한다)이 성립하지 않는 기하학이다."
   ],
   "cell_type": "markdown",
   "metadata": {}
  },
  {
   "source": [
    "한 평면에 $x$와 $y$좌표가 각각 다른 두 점 $T1$, $T2$이 있다고 하자. 이 두 점의 최단거리는 점 $T1$와 점 $T2$를 직선으로 이어 구할 수 있다. 피타고라스 정리를 사용하며 식으로는 다음과 같이 표현된다.\n",
    "\n",
    "$$\\sqrt{ {(x_{1} - x_{2})}  + {(y_{1} - y_{2})} } \\tag{1}$$\n"
   ],
   "cell_type": "markdown",
   "metadata": {}
  },
  {
   "source": [
    "하지만 대각선으로 이동할 수 없는 경우 문제가 생긴다.<br>\n",
    "예를 들어 격자 사이에 빌딩이 있어 격자를 가로지를 수 없을 때, 우리는 $x$축과 $y$축에 평행하게 지그재그로 이동해야만 한다.<br>\n",
    "이러한 경우에 사용할 수 있는 기하학이 **택시 기하학**이며 $T1$, $T2$의 최단 거리를 **택시 거리** 또는 **맨해튼 거리 Manhatten Distance**라고 한다."
   ],
   "cell_type": "markdown",
   "metadata": {}
  }
 ]
}